{
 "cells": [
  {
   "cell_type": "code",
   "execution_count": 1,
   "metadata": {},
   "outputs": [],
   "source": [
    "from tensorflow.keras.models import Sequential"
   ]
  },
  {
   "cell_type": "code",
   "execution_count": 2,
   "metadata": {},
   "outputs": [],
   "source": [
    "from tensorflow.keras.layers import Dense"
   ]
  },
  {
   "cell_type": "code",
   "execution_count": 3,
   "metadata": {},
   "outputs": [],
   "source": [
    "from tensorflow.keras.optimizers import Adam,SGD"
   ]
  },
  {
   "cell_type": "code",
   "execution_count": 4,
   "metadata": {},
   "outputs": [],
   "source": [
    "import matplotlib.pyplot as plt"
   ]
  },
  {
   "cell_type": "code",
   "execution_count": 5,
   "metadata": {},
   "outputs": [],
   "source": [
    "import tensorflow"
   ]
  },
  {
   "cell_type": "code",
   "execution_count": 6,
   "metadata": {},
   "outputs": [],
   "source": [
    "import pandas as pd\n",
    "import numpy as np"
   ]
  },
  {
   "cell_type": "code",
   "execution_count": 7,
   "metadata": {},
   "outputs": [],
   "source": [
    "data=pd.read_csv(\"weight-height.csv\")"
   ]
  },
  {
   "cell_type": "code",
   "execution_count": 8,
   "metadata": {},
   "outputs": [
    {
     "name": "stdout",
     "output_type": "stream",
     "text": [
      "<class 'pandas.core.frame.DataFrame'>\n",
      "RangeIndex: 10000 entries, 0 to 9999\n",
      "Data columns (total 3 columns):\n",
      "Gender    10000 non-null object\n",
      "Height    10000 non-null float64\n",
      "Weight    10000 non-null float64\n",
      "dtypes: float64(2), object(1)\n",
      "memory usage: 234.5+ KB\n"
     ]
    }
   ],
   "source": [
    "data.info()"
   ]
  },
  {
   "cell_type": "code",
   "execution_count": 9,
   "metadata": {},
   "outputs": [
    {
     "data": {
      "text/html": [
       "<div>\n",
       "<style scoped>\n",
       "    .dataframe tbody tr th:only-of-type {\n",
       "        vertical-align: middle;\n",
       "    }\n",
       "\n",
       "    .dataframe tbody tr th {\n",
       "        vertical-align: top;\n",
       "    }\n",
       "\n",
       "    .dataframe thead th {\n",
       "        text-align: right;\n",
       "    }\n",
       "</style>\n",
       "<table border=\"1\" class=\"dataframe\">\n",
       "  <thead>\n",
       "    <tr style=\"text-align: right;\">\n",
       "      <th></th>\n",
       "      <th>Gender</th>\n",
       "      <th>Height</th>\n",
       "      <th>Weight</th>\n",
       "    </tr>\n",
       "  </thead>\n",
       "  <tbody>\n",
       "    <tr>\n",
       "      <th>0</th>\n",
       "      <td>Male</td>\n",
       "      <td>73.847017</td>\n",
       "      <td>241.893563</td>\n",
       "    </tr>\n",
       "    <tr>\n",
       "      <th>1</th>\n",
       "      <td>Male</td>\n",
       "      <td>68.781904</td>\n",
       "      <td>162.310473</td>\n",
       "    </tr>\n",
       "    <tr>\n",
       "      <th>2</th>\n",
       "      <td>Male</td>\n",
       "      <td>74.110105</td>\n",
       "      <td>212.740856</td>\n",
       "    </tr>\n",
       "    <tr>\n",
       "      <th>3</th>\n",
       "      <td>Male</td>\n",
       "      <td>71.730978</td>\n",
       "      <td>220.042470</td>\n",
       "    </tr>\n",
       "    <tr>\n",
       "      <th>4</th>\n",
       "      <td>Male</td>\n",
       "      <td>69.881796</td>\n",
       "      <td>206.349801</td>\n",
       "    </tr>\n",
       "  </tbody>\n",
       "</table>\n",
       "</div>"
      ],
      "text/plain": [
       "  Gender     Height      Weight\n",
       "0   Male  73.847017  241.893563\n",
       "1   Male  68.781904  162.310473\n",
       "2   Male  74.110105  212.740856\n",
       "3   Male  71.730978  220.042470\n",
       "4   Male  69.881796  206.349801"
      ]
     },
     "execution_count": 9,
     "metadata": {},
     "output_type": "execute_result"
    }
   ],
   "source": [
    "data.head()"
   ]
  },
  {
   "cell_type": "code",
   "execution_count": 10,
   "metadata": {},
   "outputs": [],
   "source": [
    "x=data.Height.values"
   ]
  },
  {
   "cell_type": "code",
   "execution_count": 11,
   "metadata": {},
   "outputs": [],
   "source": [
    "y_true=data.Weight.values"
   ]
  },
  {
   "cell_type": "code",
   "execution_count": 12,
   "metadata": {},
   "outputs": [
    {
     "name": "stdout",
     "output_type": "stream",
     "text": [
      "[73.84701702 68.78190405 74.11010539 71.7309784  69.88179586]\n",
      "[241.89356318 162.31047252 212.74085556 220.0424703  206.34980062]\n"
     ]
    }
   ],
   "source": [
    "print(x[:5],y_true[:5],sep=\"\\n\")"
   ]
  },
  {
   "cell_type": "code",
   "execution_count": 13,
   "metadata": {},
   "outputs": [
    {
     "name": "stdout",
     "output_type": "stream",
     "text": [
      "WARNING:tensorflow:From C:\\Users\\hp\\Anaconda3\\lib\\site-packages\\tensorflow\\python\\ops\\init_ops.py:1251: calling VarianceScaling.__init__ (from tensorflow.python.ops.init_ops) with dtype is deprecated and will be removed in a future version.\n",
      "Instructions for updating:\n",
      "Call initializer instance with the dtype argument instead of passing it to the constructor\n"
     ]
    }
   ],
   "source": [
    "model=Sequential()\n",
    "model.add(Dense(1, input_shape=(1,)))"
   ]
  },
  {
   "cell_type": "code",
   "execution_count": 14,
   "metadata": {},
   "outputs": [
    {
     "name": "stdout",
     "output_type": "stream",
     "text": [
      "Model: \"sequential\"\n",
      "_________________________________________________________________\n",
      "Layer (type)                 Output Shape              Param #   \n",
      "=================================================================\n",
      "dense (Dense)                (None, 1)                 2         \n",
      "=================================================================\n",
      "Total params: 2\n",
      "Trainable params: 2\n",
      "Non-trainable params: 0\n",
      "_________________________________________________________________\n"
     ]
    }
   ],
   "source": [
    "model.summary()"
   ]
  },
  {
   "cell_type": "code",
   "execution_count": 15,
   "metadata": {},
   "outputs": [],
   "source": [
    "model.compile(Adam(lr=0.8), \"mean_squared_error\")"
   ]
  },
  {
   "cell_type": "code",
   "execution_count": 16,
   "metadata": {},
   "outputs": [
    {
     "name": "stdout",
     "output_type": "stream",
     "text": [
      "Epoch 1/45\n",
      "10000/10000 [==============================] - 1s 91us/sample - loss: 627.6005\n",
      "Epoch 2/45\n",
      "10000/10000 [==============================] - 1s 53us/sample - loss: 542.9684\n",
      "Epoch 3/45\n",
      "10000/10000 [==============================] - 0s 50us/sample - loss: 489.3078\n",
      "Epoch 4/45\n",
      "10000/10000 [==============================] - 0s 49us/sample - loss: 422.7659\n",
      "Epoch 5/45\n",
      "10000/10000 [==============================] - 1s 51us/sample - loss: 413.8705\n",
      "Epoch 6/45\n",
      "10000/10000 [==============================] - 1s 52us/sample - loss: 339.2971\n",
      "Epoch 7/45\n",
      "10000/10000 [==============================] - 1s 50us/sample - loss: 314.8586\n",
      "Epoch 8/45\n",
      "10000/10000 [==============================] - 1s 53us/sample - loss: 294.9214\n",
      "Epoch 9/45\n",
      "10000/10000 [==============================] - 0s 48us/sample - loss: 278.2299\n",
      "Epoch 10/45\n",
      "10000/10000 [==============================] - 1s 51us/sample - loss: 235.9896\n",
      "Epoch 11/45\n",
      "10000/10000 [==============================] - 1s 54us/sample - loss: 238.0842\n",
      "Epoch 12/45\n",
      "10000/10000 [==============================] - 1s 54us/sample - loss: 219.2816\n",
      "Epoch 13/45\n",
      "10000/10000 [==============================] - 1s 57us/sample - loss: 215.9589\n",
      "Epoch 14/45\n",
      "10000/10000 [==============================] - 1s 63us/sample - loss: 195.7753\n",
      "Epoch 15/45\n",
      "10000/10000 [==============================] - 1s 55us/sample - loss: 195.9515\n",
      "Epoch 16/45\n",
      "10000/10000 [==============================] - 1s 51us/sample - loss: 201.6292\n",
      "Epoch 17/45\n",
      "10000/10000 [==============================] - 0s 50us/sample - loss: 187.9981\n",
      "Epoch 18/45\n",
      "10000/10000 [==============================] - 1s 51us/sample - loss: 200.0389\n",
      "Epoch 19/45\n",
      "10000/10000 [==============================] - 1s 51us/sample - loss: 181.5102\n",
      "Epoch 20/45\n",
      "10000/10000 [==============================] - 0s 48us/sample - loss: 188.9716\n",
      "Epoch 21/45\n",
      "10000/10000 [==============================] - 1s 51us/sample - loss: 186.5409\n",
      "Epoch 22/45\n",
      "10000/10000 [==============================] - 1s 55us/sample - loss: 179.6993\n",
      "Epoch 23/45\n",
      "10000/10000 [==============================] - 1s 50us/sample - loss: 182.6245\n",
      "Epoch 24/45\n",
      "10000/10000 [==============================] - 1s 52us/sample - loss: 173.2392\n",
      "Epoch 25/45\n",
      "10000/10000 [==============================] - 1s 51us/sample - loss: 188.7379\n",
      "Epoch 26/45\n",
      "10000/10000 [==============================] - 1s 52us/sample - loss: 172.0577\n",
      "Epoch 27/45\n",
      "10000/10000 [==============================] - 1s 56us/sample - loss: 181.6212\n",
      "Epoch 28/45\n",
      "10000/10000 [==============================] - 1s 57us/sample - loss: 191.1447\n",
      "Epoch 29/45\n",
      "10000/10000 [==============================] - 1s 60us/sample - loss: 183.0026\n",
      "Epoch 30/45\n",
      "10000/10000 [==============================] - 1s 66us/sample - loss: 182.7431\n",
      "Epoch 31/45\n",
      "10000/10000 [==============================] - 0s 50us/sample - loss: 188.3080\n",
      "Epoch 32/45\n",
      "10000/10000 [==============================] - 1s 52us/sample - loss: 174.5241\n",
      "Epoch 33/45\n",
      "10000/10000 [==============================] - 0s 49us/sample - loss: 182.6376\n",
      "Epoch 34/45\n",
      "10000/10000 [==============================] - 0s 49us/sample - loss: 170.8613\n",
      "Epoch 35/45\n",
      "10000/10000 [==============================] - 0s 48us/sample - loss: 185.6275\n",
      "Epoch 36/45\n",
      "10000/10000 [==============================] - 1s 54us/sample - loss: 182.3937\n",
      "Epoch 37/45\n",
      "10000/10000 [==============================] - 1s 52us/sample - loss: 182.4733\n",
      "Epoch 38/45\n",
      "10000/10000 [==============================] - 1s 59us/sample - loss: 172.2316\n",
      "Epoch 39/45\n",
      "10000/10000 [==============================] - 1s 52us/sample - loss: 173.4424\n",
      "Epoch 40/45\n",
      "10000/10000 [==============================] - 1s 67us/sample - loss: 181.3549\n",
      "Epoch 41/45\n",
      "10000/10000 [==============================] - 1s 54us/sample - loss: 174.4341\n",
      "Epoch 42/45\n",
      "10000/10000 [==============================] - 1s 72us/sample - loss: 181.1079\n",
      "Epoch 43/45\n",
      "10000/10000 [==============================] - 1s 69us/sample - loss: 173.4218\n",
      "Epoch 44/45\n",
      "10000/10000 [==============================] - 1s 67us/sample - loss: 177.4567\n",
      "Epoch 45/45\n",
      "10000/10000 [==============================] - 1s 52us/sample - loss: 183.6111\n"
     ]
    },
    {
     "data": {
      "text/plain": [
       "<tensorflow.python.keras.callbacks.History at 0x24d686ddc50>"
      ]
     },
     "execution_count": 16,
     "metadata": {},
     "output_type": "execute_result"
    }
   ],
   "source": [
    "model.fit(x,y_true, epochs=45)"
   ]
  },
  {
   "cell_type": "code",
   "execution_count": 17,
   "metadata": {},
   "outputs": [],
   "source": [
    "y_pred=model.predict(x)"
   ]
  },
  {
   "cell_type": "code",
   "execution_count": 18,
   "metadata": {},
   "outputs": [
    {
     "data": {
      "text/plain": [
       "array([[216.87537],\n",
       "       [178.03442],\n",
       "       [218.89288],\n",
       "       ...,\n",
       "       [140.3529 ],\n",
       "       [179.96942],\n",
       "       [125.60095]], dtype=float32)"
      ]
     },
     "execution_count": 18,
     "metadata": {},
     "output_type": "execute_result"
    }
   ],
   "source": [
    "y_pred"
   ]
  },
  {
   "cell_type": "code",
   "execution_count": 21,
   "metadata": {},
   "outputs": [
    {
     "data": {
      "text/plain": [
       "[<matplotlib.lines.Line2D at 0x24d689c4710>]"
      ]
     },
     "execution_count": 21,
     "metadata": {},
     "output_type": "execute_result"
    },
    {
     "data": {
      "image/png": "[encoded data removed]",
      "text/plain": [
       "<Figure size 432x288 with 1 Axes>"
      ]
     },
     "metadata": {
      "needs_background": "light"
     },
     "output_type": "display_data"
    }
   ],
   "source": [
    "data.plot(kind=\"scatter\",\n",
    "        x=\"Height\",\n",
    "        y=\"Weight\",\n",
    "        title=\"height vs weight(find w, b)\")\n",
    "plt.plot(x,y_pred,color=\"red\",linewidth=3)"
   ]
  },
  {
   "cell_type": "code",
   "execution_count": 22,
   "metadata": {},
   "outputs": [
    {
     "name": "stdout",
     "output_type": "stream",
     "text": [
      "[[7.668336]] [-349.40833]\n"
     ]
    }
   ],
   "source": [
    "w,b=model.get_weights()\n",
    "print(w,b)"
   ]
  },
  {
   "cell_type": "code",
   "execution_count": 23,
   "metadata": {},
   "outputs": [
    {
     "data": {
      "text/plain": [
       "array([[1951.0924]], dtype=float32)"
      ]
     },
     "execution_count": 23,
     "metadata": {},
     "output_type": "execute_result"
    }
   ],
   "source": [
    "model.predict([300])"
   ]
  },
  {
   "cell_type": "code",
   "execution_count": 25,
   "metadata": {},
   "outputs": [
    {
     "data": {
      "text/plain": [
       "<matplotlib.collections.PathCollection at 0x24d6f12ebe0>"
      ]
     },
     "execution_count": 25,
     "metadata": {},
     "output_type": "execute_result"
    },
    {
     "data": {
      "image/png": "[encoded data removed]",
      "text/plain": [
       "<Figure size 432x288 with 1 Axes>"
      ]
     },
     "metadata": {
      "needs_background": "light"
     },
     "output_type": "display_data"
    }
   ],
   "source": [
    "data.plot(kind=\"scatter\",\n",
    "        x=\"Height\",\n",
    "        y=\"Weight\",\n",
    "        title=\"height vs weight(find w, b)\")\n",
    "plt.plot(x,y_pred,color=\"red\",linewidth=3)\n",
    "plt.scatter(200,model.predict([200]))"
   ]
  },
  {
   "cell_type": "code",
   "execution_count": null,
   "metadata": {},
   "outputs": [],
   "source": []
  }
 ],
 "metadata": {
  "kernelspec": {
   "display_name": "Python 3",
   "language": "python",
   "name": "python3"
  },
  "language_info": {
   "codemirror_mode": {
    "name": "ipython",
    "version": 3
   },
   "file_extension": ".py",
   "mimetype": "text/x-python",
   "name": "python",
   "nbconvert_exporter": "python",
   "pygments_lexer": "ipython3",
   "version": "3.7.3"
  }
 },
 "nbformat": 4,
 "nbformat_minor": 2
}
